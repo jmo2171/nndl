{
  "cells": [
    {
      "cell_type": "code",
      "execution_count": 2,
      "metadata": {
        "_cell_guid": "b1076dfc-b9ad-4769-8c92-a6c4dae69d19",
        "_uuid": "8f2839f25d086af736a60e9eeb907d3b93b6e0e5",
        "execution": {
          "iopub.execute_input": "2025-05-08T03:42:47.378845Z",
          "iopub.status.busy": "2025-05-08T03:42:47.378134Z",
          "iopub.status.idle": "2025-05-08T03:42:47.382851Z",
          "shell.execute_reply": "2025-05-08T03:42:47.382183Z",
          "shell.execute_reply.started": "2025-05-08T03:42:47.378820Z"
        },
        "trusted": true,
        "id": "nstcz6fNGq0_"
      },
      "outputs": [],
      "source": [
        "import numpy as np\n",
        "import pandas as pd\n",
        "\n",
        "import re\n",
        "from typing import Dict, List, Optional, Text, Tuple\n",
        "import matplotlib.pyplot as plt\n",
        "from matplotlib import colors\n",
        "\n",
        "import tensorflow as tf\n"
      ]
    },
    {
      "cell_type": "markdown",
      "metadata": {
        "id": "lW72d6GUGq1A"
      },
      "source": [
        "# load data"
      ]
    },
    {
      "cell_type": "code",
      "execution_count": 3,
      "metadata": {
        "execution": {
          "iopub.execute_input": "2025-05-08T03:42:47.384598Z",
          "iopub.status.busy": "2025-05-08T03:42:47.384211Z",
          "iopub.status.idle": "2025-05-08T03:42:47.399055Z",
          "shell.execute_reply": "2025-05-08T03:42:47.398486Z",
          "shell.execute_reply.started": "2025-05-08T03:42:47.384580Z"
        },
        "trusted": true,
        "id": "7NQKNV0cGq1B"
      },
      "outputs": [],
      "source": [
        "\"\"\"Constants for the data reader.\"\"\"\n",
        "\n",
        "INPUT_FEATURES = ['elevation', 'th', 'vs',  'tmmn', 'tmmx', 'sph',\n",
        "                  'pr', 'pdsi', 'NDVI', 'population', 'erc', 'PrevFireMask']\n",
        "\n",
        "OUTPUT_FEATURES = ['FireMask', ]\n",
        "\n",
        "# Data statistics\n",
        "# For each variable, the statistics are ordered in the form:\n",
        "# (min_clip, max_clip, mean, standard deviation)\n",
        "DATA_STATS = {\n",
        "    # Elevation in m.\n",
        "    # 0.1 percentile, 99.9 percentile\n",
        "    'elevation': (0.0, 3141.0, 657.3003, 649.0147),\n",
        "    # Pressure\n",
        "    # 0.1 percentile, 99.9 percentile\n",
        "    'pdsi': (-6.12974870967865, 7.876040384292651, -0.0052714925, 2.6823447),\n",
        "    'NDVI': (-9821.0, 9996.0, 5157.625, 2466.6677),  # min, max\n",
        "    # Precipitation in mm.\n",
        "    # Negative values do not make sense, so min is set to 0.\n",
        "    # 0., 99.9 percentile\n",
        "    'pr': (0.0, 44.53038024902344, 1.7398051, 4.482833),\n",
        "    # Specific humidity.\n",
        "    # Negative values do not make sense, so min is set to 0.\n",
        "    # The range of specific humidity is up to 100% so max is 1.\n",
        "    'sph': (0., 1., 0.0071658953, 0.0042835088),\n",
        "    # Wind direction in degrees clockwise from north.\n",
        "    # Thus min set to 0 and max set to 360.\n",
        "    'th': (0., 360.0, 190.32976, 72.59854),\n",
        "    # Min/max temperature in Kelvin.\n",
        "    # -20 degree C, 99.9 percentile\n",
        "    'tmmn': (253.15, 298.94891357421875, 281.08768, 8.982386),\n",
        "    # -20 degree C, 99.9 percentile\n",
        "    'tmmx': (253.15, 315.09228515625, 295.17383, 9.815496),\n",
        "    # Wind speed in m/s.\n",
        "    # Negative values do not make sense, given there is a wind direction.\n",
        "    # 0., 99.9 percentile\n",
        "    'vs': (0.0, 10.024310074806237, 3.8500874, 1.4109988),\n",
        "    # NFDRS fire danger index energy release component expressed in BTU's per\n",
        "    # square foot.\n",
        "    # Negative values do not make sense. Thus min set to zero.\n",
        "    # 0., 99.9 percentile\n",
        "    'erc': (0.0, 106.24891662597656, 37.326267, 20.846027),\n",
        "    # Population density\n",
        "    # min, 99.9 percentile\n",
        "    'population': (0., 2534.06298828125, 25.531384, 154.72331),\n",
        "    # We don't want to normalize the FireMasks.\n",
        "    # 1 indicates fire, 0 no fire, -1 unlabeled data\n",
        "    'PrevFireMask': (-1., 1., 0., 1.),\n",
        "    'FireMask': (-1., 1., 0., 1.)\n",
        "}"
      ]
    },
    {
      "cell_type": "code",
      "execution_count": 4,
      "metadata": {
        "execution": {
          "iopub.execute_input": "2025-05-08T03:42:47.399868Z",
          "iopub.status.busy": "2025-05-08T03:42:47.399670Z",
          "iopub.status.idle": "2025-05-08T03:42:47.412637Z",
          "shell.execute_reply": "2025-05-08T03:42:47.411933Z",
          "shell.execute_reply.started": "2025-05-08T03:42:47.399854Z"
        },
        "trusted": true,
        "id": "kO0KKjUVGq1C"
      },
      "outputs": [],
      "source": [
        "\"\"\"Library of common functions used in deep learning neural networks.\n",
        "\"\"\"\n",
        "def random_crop_input_and_output_images(\n",
        "    input_img: tf.Tensor,\n",
        "    output_img: tf.Tensor,\n",
        "    sample_size: int,\n",
        "    num_in_channels: int,\n",
        "    num_out_channels: int,\n",
        ") -> Tuple[tf.Tensor, tf.Tensor]:\n",
        "  \"\"\"Randomly axis-align crop input and output image tensors.\n",
        "\n",
        "  Args:\n",
        "    input_img: tensor with dimensions HWC.\n",
        "    output_img: tensor with dimensions HWC.\n",
        "    sample_size: side length (square) to crop to.\n",
        "    num_in_channels: number of channels in input_img.\n",
        "    num_out_channels: number of channels in output_img.\n",
        "  Returns:\n",
        "    input_img: tensor with dimensions HWC.\n",
        "    output_img: tensor with dimensions HWC.\n",
        "  \"\"\"\n",
        "  combined = tf.concat([input_img, output_img], axis=2)\n",
        "  combined = tf.image.random_crop(\n",
        "      combined,\n",
        "      [sample_size, sample_size, num_in_channels + num_out_channels])\n",
        "  input_img = combined[:, :, 0:num_in_channels]\n",
        "  output_img = combined[:, :, -num_out_channels:]\n",
        "  return input_img, output_img\n",
        "\n",
        "\n",
        "def center_crop_input_and_output_images(\n",
        "    input_img: tf.Tensor,\n",
        "    output_img: tf.Tensor,\n",
        "    sample_size: int,\n",
        ") -> Tuple[tf.Tensor, tf.Tensor]:\n",
        "  \"\"\"Center crops input and output image tensors.\n",
        "\n",
        "  Args:\n",
        "    input_img: tensor with dimensions HWC.\n",
        "    output_img: tensor with dimensions HWC.\n",
        "    sample_size: side length (square) to crop to.\n",
        "  Returns:\n",
        "    input_img: tensor with dimensions HWC.\n",
        "    output_img: tensor with dimensions HWC.\n",
        "  \"\"\"\n",
        "  central_fraction = sample_size / input_img.shape[0]\n",
        "  input_img = tf.image.central_crop(input_img, central_fraction)\n",
        "  output_img = tf.image.central_crop(output_img, central_fraction)\n",
        "  return input_img, output_img"
      ]
    },
    {
      "cell_type": "code",
      "execution_count": 5,
      "metadata": {
        "execution": {
          "iopub.execute_input": "2025-05-08T03:42:47.414210Z",
          "iopub.status.busy": "2025-05-08T03:42:47.414004Z",
          "iopub.status.idle": "2025-05-08T03:42:47.434671Z",
          "shell.execute_reply": "2025-05-08T03:42:47.434024Z",
          "shell.execute_reply.started": "2025-05-08T03:42:47.414189Z"
        },
        "trusted": true,
        "id": "bIp_TLf5Gq1D"
      },
      "outputs": [],
      "source": [
        "\"\"\"Dataset reader for Earth Engine data.\"\"\"\n",
        "\n",
        "def _get_base_key(key: Text) -> Text:\n",
        "  \"\"\"Extracts the base key from the provided key.\n",
        "\n",
        "  Earth Engine exports TFRecords containing each data variable with its\n",
        "  corresponding variable name. In the case of time sequences, the name of the\n",
        "  data variable is of the form 'variable_1', 'variable_2', ..., 'variable_n',\n",
        "  where 'variable' is the name of the variable, and n the number of elements\n",
        "  in the time sequence. Extracting the base key ensures that each step of the\n",
        "  time sequence goes through the same normalization steps.\n",
        "  The base key obeys the following naming pattern: '([a-zA-Z]+)'\n",
        "  For instance, for an input key 'variable_1', this function returns 'variable'.\n",
        "  For an input key 'variable', this function simply returns 'variable'.\n",
        "\n",
        "  Args:\n",
        "    key: Input key.\n",
        "\n",
        "  Returns:\n",
        "    The corresponding base key.\n",
        "\n",
        "  Raises:\n",
        "    ValueError when `key` does not match the expected pattern.\n",
        "  \"\"\"\n",
        "  match = re.match(r'([a-zA-Z]+)', key)\n",
        "  if match:\n",
        "    return match.group(1)\n",
        "  raise ValueError(\n",
        "      'The provided key does not match the expected pattern: {}'.format(key))\n",
        "\n",
        "\n",
        "def _clip_and_rescale(inputs: tf.Tensor, key: Text) -> tf.Tensor:\n",
        "  \"\"\"Clips and rescales inputs with the stats corresponding to `key`.\n",
        "\n",
        "  Args:\n",
        "    inputs: Inputs to clip and rescale.\n",
        "    key: Key describing the inputs.\n",
        "\n",
        "  Returns:\n",
        "    Clipped and rescaled input.\n",
        "\n",
        "  Raises:\n",
        "    ValueError if there are no data statistics available for `key`.\n",
        "  \"\"\"\n",
        "  base_key = _get_base_key(key)\n",
        "  if base_key not in DATA_STATS:\n",
        "    raise ValueError(\n",
        "        'No data statistics available for the requested key: {}.'.format(key))\n",
        "  min_val, max_val, _, _ = DATA_STATS[base_key]\n",
        "  inputs = tf.clip_by_value(inputs, min_val, max_val)\n",
        "  return tf.math.divide_no_nan((inputs - min_val), (max_val - min_val))\n",
        "\n",
        "\n",
        "def _clip_and_normalize(inputs: tf.Tensor, key: Text) -> tf.Tensor:\n",
        "  \"\"\"Clips and normalizes inputs with the stats corresponding to `key`.\n",
        "\n",
        "  Args:\n",
        "    inputs: Inputs to clip and normalize.\n",
        "    key: Key describing the inputs.\n",
        "\n",
        "  Returns:\n",
        "    Clipped and normalized input.\n",
        "\n",
        "  Raises:\n",
        "    ValueError if there are no data statistics available for `key`.\n",
        "  \"\"\"\n",
        "  base_key = _get_base_key(key)\n",
        "  if base_key not in DATA_STATS:\n",
        "    raise ValueError(\n",
        "        'No data statistics available for the requested key: {}.'.format(key))\n",
        "  min_val, max_val, mean, std = DATA_STATS[base_key]\n",
        "  inputs = tf.clip_by_value(inputs, min_val, max_val)\n",
        "  inputs = inputs - mean\n",
        "  return tf.math.divide_no_nan(inputs, std)\n",
        "\n",
        "def _get_features_dict(\n",
        "    sample_size: int,\n",
        "    features: List[Text],\n",
        ") -> Dict[Text, tf.io.FixedLenFeature]:\n",
        "  \"\"\"Creates a features dictionary for TensorFlow IO.\n",
        "\n",
        "  Args:\n",
        "    sample_size: Size of the input tiles (square).\n",
        "    features: List of feature names.\n",
        "\n",
        "  Returns:\n",
        "    A features dictionary for TensorFlow IO.\n",
        "  \"\"\"\n",
        "  sample_shape = [sample_size, sample_size]\n",
        "  features = set(features)\n",
        "  columns = [\n",
        "      tf.io.FixedLenFeature(shape=sample_shape, dtype=tf.float32)\n",
        "      for _ in features\n",
        "  ]\n",
        "  return dict(zip(features, columns))\n",
        "\n",
        "\n",
        "def _parse_fn(\n",
        "    example_proto: tf.train.Example, data_size: int, sample_size: int,\n",
        "    num_in_channels: int, clip_and_normalize: bool,\n",
        "    clip_and_rescale: bool, random_crop: bool, center_crop: bool,\n",
        ") -> Tuple[tf.Tensor, tf.Tensor]:\n",
        "  \"\"\"Reads a serialized example.\n",
        "\n",
        "  Args:\n",
        "    example_proto: A TensorFlow example protobuf.\n",
        "    data_size: Size of tiles (square) as read from input files.\n",
        "    sample_size: Size the tiles (square) when input into the model.\n",
        "    num_in_channels: Number of input channels.\n",
        "    clip_and_normalize: True if the data should be clipped and normalized.\n",
        "    clip_and_rescale: True if the data should be clipped and rescaled.\n",
        "    random_crop: True if the data should be randomly cropped.\n",
        "    center_crop: True if the data should be cropped in the center.\n",
        "\n",
        "  Returns:\n",
        "    (input_img, output_img) tuple of inputs and outputs to the ML model.\n",
        "  \"\"\"\n",
        "  if (random_crop and center_crop):\n",
        "    raise ValueError('Cannot have both random_crop and center_crop be True')\n",
        "  input_features, output_features = INPUT_FEATURES, OUTPUT_FEATURES\n",
        "  feature_names = input_features + output_features\n",
        "  features_dict = _get_features_dict(data_size, feature_names)\n",
        "  features = tf.io.parse_single_example(example_proto, features_dict)\n",
        "\n",
        "  if clip_and_normalize:\n",
        "    inputs_list = [\n",
        "        _clip_and_normalize(features.get(key), key) for key in input_features\n",
        "    ]\n",
        "  elif clip_and_rescale:\n",
        "    inputs_list = [\n",
        "        _clip_and_rescale(features.get(key), key) for key in input_features\n",
        "    ]\n",
        "  else:\n",
        "    inputs_list = [features.get(key) for key in input_features]\n",
        "\n",
        "  inputs_stacked = tf.stack(inputs_list, axis=0)\n",
        "  input_img = tf.transpose(inputs_stacked, [1, 2, 0])\n",
        "\n",
        "  outputs_list = [features.get(key) for key in output_features]\n",
        "  assert outputs_list, 'outputs_list should not be empty'\n",
        "  outputs_stacked = tf.stack(outputs_list, axis=0)\n",
        "\n",
        "  outputs_stacked_shape = outputs_stacked.get_shape().as_list()\n",
        "  assert len(outputs_stacked.shape) == 3, ('outputs_stacked should be rank 3'\n",
        "                                            'but dimensions of outputs_stacked'\n",
        "                                            f' are {outputs_stacked_shape}')\n",
        "  output_img = tf.transpose(outputs_stacked, [1, 2, 0])\n",
        "\n",
        "  if random_crop:\n",
        "    input_img, output_img = random_crop_input_and_output_images(\n",
        "        input_img, output_img, sample_size, num_in_channels, 1)\n",
        "  if center_crop:\n",
        "    input_img, output_img = center_crop_input_and_output_images(\n",
        "        input_img, output_img, sample_size)\n",
        "  return input_img, output_img\n",
        "\n",
        "\n",
        "def get_dataset(file_pattern: Text, data_size: int, sample_size: int,\n",
        "                batch_size: int, num_in_channels: int, compression_type: Text,\n",
        "                clip_and_normalize: bool, clip_and_rescale: bool,\n",
        "                random_crop: bool, center_crop: bool) -> tf.data.Dataset:\n",
        "  \"\"\"Gets the dataset from the file pattern.\n",
        "\n",
        "  Args:\n",
        "    file_pattern: Input file pattern.\n",
        "    data_size: Size of tiles (square) as read from input files.\n",
        "    sample_size: Size the tiles (square) when input into the model.\n",
        "    batch_size: Batch size.\n",
        "    num_in_channels: Number of input channels.\n",
        "    compression_type: Type of compression used for the input files.\n",
        "    clip_and_normalize: True if the data should be clipped and normalized, False\n",
        "      otherwise.\n",
        "    clip_and_rescale: True if the data should be clipped and rescaled, False\n",
        "      otherwise.\n",
        "    random_crop: True if the data should be randomly cropped.\n",
        "    center_crop: True if the data shoulde be cropped in the center.\n",
        "\n",
        "  Returns:\n",
        "    A TensorFlow dataset loaded from the input file pattern, with features\n",
        "    described in the constants, and with the shapes determined from the input\n",
        "    parameters to this function.\n",
        "  \"\"\"\n",
        "  if (clip_and_normalize and clip_and_rescale):\n",
        "    raise ValueError('Cannot have both normalize and rescale.')\n",
        "  dataset = tf.data.Dataset.list_files(file_pattern)\n",
        "  dataset = dataset.interleave(\n",
        "      lambda x: tf.data.TFRecordDataset(x, compression_type=compression_type),\n",
        "      num_parallel_calls=tf.data.experimental.AUTOTUNE)\n",
        "  dataset = dataset.prefetch(buffer_size=tf.data.experimental.AUTOTUNE)\n",
        "  dataset = dataset.map(\n",
        "      lambda x: _parse_fn(  # pylint: disable=g-long-lambda\n",
        "          x, data_size, sample_size, num_in_channels, clip_and_normalize,\n",
        "          clip_and_rescale, random_crop, center_crop),\n",
        "      num_parallel_calls=tf.data.experimental.AUTOTUNE)\n",
        "  dataset = dataset.batch(batch_size)\n",
        "  dataset = dataset.prefetch(buffer_size=tf.data.experimental.AUTOTUNE)\n",
        "  return dataset"
      ]
    },
    {
      "cell_type": "code",
      "execution_count": null,
      "metadata": {
        "execution": {
          "iopub.execute_input": "2025-05-08T03:42:47.435483Z",
          "iopub.status.busy": "2025-05-08T03:42:47.435274Z",
          "iopub.status.idle": "2025-05-08T03:42:48.608478Z",
          "shell.execute_reply": "2025-05-08T03:42:48.607853Z",
          "shell.execute_reply.started": "2025-05-08T03:42:47.435441Z"
        },
        "trusted": true,
        "id": "h5sYQrssGq1E"
      },
      "outputs": [],
      "source": [
        "BATCH_SIZE = 32\n",
        "SAMPLE_SIZE = 64\n",
        "\n",
        "train_dataset = get_dataset('/kaggle/input/next-day-wildfire-spread/next_day_wildfire_spread_train*',\n",
        "    data_size=64, sample_size=SAMPLE_SIZE, batch_size=BATCH_SIZE,\n",
        "    num_in_channels=12, compression_type=None, clip_and_normalize=True,\n",
        "    clip_and_rescale=False, random_crop=True, center_crop=False)\n",
        "\n",
        "validation_dataset = get_dataset('/kaggle/input/next-day-wildfire-spread/next_day_wildfire_spread_eval*',\n",
        "    data_size=64, sample_size=SAMPLE_SIZE, batch_size=BATCH_SIZE,\n",
        "    num_in_channels=12, compression_type=None, clip_and_normalize=True,\n",
        "    clip_and_rescale=False, random_crop=True, center_crop=False)\n",
        "\n",
        "test_dataset = get_dataset('/kaggle/input/next-day-wildfire-spread/next_day_wildfire_spread_test*',\n",
        "    data_size=64, sample_size=SAMPLE_SIZE, batch_size=BATCH_SIZE,\n",
        "    num_in_channels=12, compression_type=None, clip_and_normalize=True,\n",
        "    clip_and_rescale=False, random_crop=True, center_crop=False)"
      ]
    },
    {
      "cell_type": "markdown",
      "source": [
        "# For loading the dataset from google drive"
      ],
      "metadata": {
        "id": "cNCaryRXLJJY"
      }
    },
    {
      "cell_type": "code",
      "source": [
        "import glob\n",
        "from google.colab import drive\n",
        "\n",
        "BATCH_SIZE = 32\n",
        "SAMPLE_SIZE = 64\n",
        "\n",
        "# Mount Google Drive\n",
        "drive.mount('/content/drive')\n",
        "\n",
        "# Use glob to find all matching files\n",
        "train_files = glob.glob('/content/drive/MyDrive/wildfires/next_day_wildfire_spread_train*.tfrecord')\n",
        "validation_files = glob.glob('/content/drive/MyDrive/wildfires/next_day_wildfire_spread_eval*.tfrecord')\n",
        "test_files = glob.glob('/content/drive/MyDrive/wildfires/next_day_wildfire_spread_test*.tfrecord')\n",
        "\n",
        "# Create the datasets using the list of files\n",
        "train_dataset = get_dataset(train_files,\n",
        "    data_size=64, sample_size=SAMPLE_SIZE, batch_size=BATCH_SIZE,\n",
        "    num_in_channels=12, compression_type=None, clip_and_normalize=True,\n",
        "    clip_and_rescale=False, random_crop=True, center_crop=False)\n",
        "\n",
        "validation_dataset = get_dataset(validation_files,\n",
        "    data_size=64, sample_size=SAMPLE_SIZE, batch_size=BATCH_SIZE,\n",
        "    num_in_channels=12, compression_type=None, clip_and_normalize=True,\n",
        "    clip_and_rescale=False, random_crop=True, center_crop=False)\n",
        "\n",
        "test_dataset = get_dataset(test_files,\n",
        "    data_size=64, sample_size=SAMPLE_SIZE, batch_size=BATCH_SIZE,\n",
        "    num_in_channels=12, compression_type=None, clip_and_normalize=True,\n",
        "    clip_and_rescale=False, random_crop=True, center_crop=False)\n"
      ],
      "metadata": {
        "colab": {
          "base_uri": "https://localhost:8080/"
        },
        "id": "yhcJ1Tx4KgTC",
        "outputId": "9e17e5b8-5c9b-493e-8a83-ecd74d592761"
      },
      "execution_count": 7,
      "outputs": [
        {
          "output_type": "stream",
          "name": "stdout",
          "text": [
            "Mounted at /content/drive\n"
          ]
        }
      ]
    },
    {
      "cell_type": "code",
      "execution_count": 8,
      "metadata": {
        "execution": {
          "iopub.execute_input": "2025-05-08T03:42:48.609525Z",
          "iopub.status.busy": "2025-05-08T03:42:48.609287Z",
          "iopub.status.idle": "2025-05-08T03:42:48.803212Z",
          "shell.execute_reply": "2025-05-08T03:42:48.802437Z",
          "shell.execute_reply.started": "2025-05-08T03:42:48.609507Z"
        },
        "trusted": true,
        "colab": {
          "base_uri": "https://localhost:8080/"
        },
        "id": "CbtymGfSGq1E",
        "outputId": "f39aa7f6-8270-4be2-a92b-bdaedda9790d"
      },
      "outputs": [
        {
          "output_type": "stream",
          "name": "stdout",
          "text": [
            "(32, 64, 64, 12) (32, 64, 64, 1)\n",
            "(32, 64, 64, 12) (32, 64, 64, 1)\n"
          ]
        }
      ],
      "source": [
        "for x, y in train_dataset.take(1):\n",
        "    print(x.shape, y.shape)\n",
        "\n",
        "for x, y in validation_dataset.take(1):\n",
        "    print(x.shape, y.shape)"
      ]
    },
    {
      "cell_type": "markdown",
      "metadata": {
        "id": "cCGGbOfyGq1F"
      },
      "source": [
        "# convert to torch ( i dont know how to tensor flow)"
      ]
    },
    {
      "cell_type": "code",
      "execution_count": 9,
      "metadata": {
        "execution": {
          "iopub.execute_input": "2025-05-08T03:42:48.804682Z",
          "iopub.status.busy": "2025-05-08T03:42:48.804485Z",
          "iopub.status.idle": "2025-05-08T03:42:48.810853Z",
          "shell.execute_reply": "2025-05-08T03:42:48.810043Z",
          "shell.execute_reply.started": "2025-05-08T03:42:48.804667Z"
        },
        "trusted": true,
        "id": "3TZPz899Gq1F"
      },
      "outputs": [],
      "source": [
        "import tensorflow as tf\n",
        "import torch\n",
        "from torch.utils.data import Dataset\n",
        "\n",
        "\n",
        "\n",
        "class TFToTorchDataset(Dataset):\n",
        "    def __init__(self, tf_dataset, clean=False):\n",
        "        self.samples = []\n",
        "        for x, y in tf_dataset.as_numpy_iterator():\n",
        "            for i in range(x.shape[0]):\n",
        "                # Convert x: (32, 32, 12) → (12, 32, 32)\n",
        "                x_i = tf.transpose(x[i], perm=[2, 0, 1]).numpy()\n",
        "                # Convert y: (32, 32, 1) → (1, 32, 32)\n",
        "                y_i = tf.transpose(y[i], perm=[2, 0, 1]).numpy()\n",
        "\n",
        "                if clean:\n",
        "                    if (y_i == -1).any():\n",
        "                        continue  # Skip this sample\n",
        "                self.samples.append((\n",
        "                    torch.tensor(x_i, dtype=torch.float32),\n",
        "                    torch.tensor(y_i, dtype=torch.float32)\n",
        "                ))\n",
        "\n",
        "    def __len__(self):\n",
        "        return len(self.samples)\n",
        "\n",
        "    def __getitem__(self, idx):\n",
        "        return self.samples[idx]\n"
      ]
    },
    {
      "cell_type": "code",
      "execution_count": 10,
      "metadata": {
        "execution": {
          "iopub.execute_input": "2025-05-08T03:42:48.813267Z",
          "iopub.status.busy": "2025-05-08T03:42:48.813076Z",
          "iopub.status.idle": "2025-05-08T03:43:21.087737Z",
          "shell.execute_reply": "2025-05-08T03:43:21.087110Z",
          "shell.execute_reply.started": "2025-05-08T03:42:48.813253Z"
        },
        "trusted": true,
        "id": "dRnYCmj9Gq1F"
      },
      "outputs": [],
      "source": [
        "torch_dataset = TFToTorchDataset(train_dataset, clean=True)\n",
        "train_loader = torch.utils.data.DataLoader(torch_dataset, batch_size=32, shuffle=True)\n",
        "\n",
        "torch_dataset_val =  TFToTorchDataset(validation_dataset, clean=True)\n",
        "val_loader = torch.utils.data.DataLoader(torch_dataset_val, batch_size=32, shuffle=True)"
      ]
    },
    {
      "cell_type": "code",
      "execution_count": 11,
      "metadata": {
        "execution": {
          "iopub.execute_input": "2025-05-08T03:43:21.091532Z",
          "iopub.status.busy": "2025-05-08T03:43:21.091267Z",
          "iopub.status.idle": "2025-05-08T03:43:21.166586Z",
          "shell.execute_reply": "2025-05-08T03:43:21.165801Z",
          "shell.execute_reply.started": "2025-05-08T03:43:21.091514Z"
        },
        "trusted": true,
        "id": "e6HEdxDqGq1G"
      },
      "outputs": [],
      "source": [
        "N = 5\n",
        "dataiter = iter(train_loader)\n",
        "\n",
        "image_list = []\n",
        "label_list = []\n",
        "#assume batch size equal to 1, otherwise divide N by batch size\n",
        "for i in range(0, N):\n",
        "  image, label = next(dataiter)\n",
        "  image_list.append(image)\n",
        "  label_list.append(label)"
      ]
    },
    {
      "cell_type": "code",
      "execution_count": 12,
      "metadata": {
        "execution": {
          "iopub.execute_input": "2025-05-08T03:43:21.167691Z",
          "iopub.status.busy": "2025-05-08T03:43:21.167460Z",
          "iopub.status.idle": "2025-05-08T03:43:21.350637Z",
          "shell.execute_reply": "2025-05-08T03:43:21.349869Z",
          "shell.execute_reply.started": "2025-05-08T03:43:21.167674Z"
        },
        "trusted": true,
        "colab": {
          "base_uri": "https://localhost:8080/",
          "height": 69
        },
        "id": "JNvEtlxvGq1G",
        "outputId": "60990b13-f9f9-4857-e133-8bc6de332181"
      },
      "outputs": [
        {
          "output_type": "stream",
          "name": "stdout",
          "text": [
            "64\n"
          ]
        },
        {
          "output_type": "display_data",
          "data": {
            "text/plain": [
              "<Figure size 640x480 with 2 Axes>"
            ],
            "image/png": "[encoded data removed]"
          },
          "metadata": {}
        }
      ],
      "source": [
        "print(len(label_list[0][0][0][0]))\n",
        "# print(label_list[0][0])\n",
        "plt.imshow(label_list[4][0][0], cmap='viridis', interpolation='nearest')\n",
        "plt.colorbar()\n",
        "plt.show()\n"
      ]
    },
    {
      "cell_type": "markdown",
      "metadata": {
        "id": "O9Ud8xSQGq1H"
      },
      "source": [
        "# fully conv model"
      ]
    },
    {
      "cell_type": "code",
      "execution_count": 13,
      "metadata": {
        "execution": {
          "iopub.execute_input": "2025-05-08T03:43:21.351988Z",
          "iopub.status.busy": "2025-05-08T03:43:21.351533Z",
          "iopub.status.idle": "2025-05-08T03:43:21.360260Z",
          "shell.execute_reply": "2025-05-08T03:43:21.359497Z",
          "shell.execute_reply.started": "2025-05-08T03:43:21.351962Z"
        },
        "trusted": true,
        "id": "9NBS2hUGGq1H"
      },
      "outputs": [],
      "source": [
        "import torch\n",
        "import torch.nn as nn\n",
        "import torch.nn.functional as F\n",
        "\n",
        "class UNet(nn.Module):\n",
        "    def __init__(self, in_channels=12, out_channels=1):\n",
        "        super(UNet, self).__init__()\n",
        "\n",
        "        def conv_block(in_c, out_c):\n",
        "            return nn.Sequential(\n",
        "                nn.Conv2d(in_c, out_c, kernel_size=3, padding=1),\n",
        "                nn.BatchNorm2d(out_c),\n",
        "                nn.ReLU(inplace=True),\n",
        "                nn.Conv2d(out_c, out_c, kernel_size=3, padding=1),\n",
        "                nn.BatchNorm2d(out_c),\n",
        "                nn.ReLU(inplace=True),\n",
        "            )\n",
        "\n",
        "        self.encoder1 = conv_block(in_channels, 64)\n",
        "        self.encoder2 = conv_block(64, 128)\n",
        "        self.encoder3 = conv_block(128, 256)\n",
        "\n",
        "        self.pool = nn.MaxPool2d(2)\n",
        "\n",
        "        self.bottleneck = conv_block(256, 512)\n",
        "\n",
        "        self.up3 = nn.ConvTranspose2d(512, 256, kernel_size=2, stride=2)\n",
        "        self.decoder3 = conv_block(512, 256)\n",
        "\n",
        "        self.up2 = nn.ConvTranspose2d(256, 128, kernel_size=2, stride=2)\n",
        "        self.decoder2 = conv_block(256, 128)\n",
        "\n",
        "        self.up1 = nn.ConvTranspose2d(128, 64, kernel_size=2, stride=2)\n",
        "        self.decoder1 = conv_block(128, 64)\n",
        "\n",
        "        self.output_layer = nn.Conv2d(64, out_channels, kernel_size=1)\n",
        "\n",
        "    def forward(self, x):\n",
        "        # Encoder\n",
        "        e1 = self.encoder1(x)\n",
        "        e2 = self.encoder2(self.pool(e1))\n",
        "        e3 = self.encoder3(self.pool(e2))\n",
        "\n",
        "        # Bottleneck\n",
        "        b = self.bottleneck(self.pool(e3))\n",
        "\n",
        "        # Decoder\n",
        "        d3 = self.up3(b)\n",
        "        d3 = self.decoder3(torch.cat([d3, e3], dim=1))\n",
        "\n",
        "        d2 = self.up2(d3)\n",
        "        d2 = self.decoder2(torch.cat([d2, e2], dim=1))\n",
        "\n",
        "        d1 = self.up1(d2)\n",
        "        d1 = self.decoder1(torch.cat([d1, e1], dim=1))\n",
        "\n",
        "        # return torch.sigmoid(self.output_layer(d1))\n",
        "        return self.output_layer(d1)\n"
      ]
    },
    {
      "cell_type": "code",
      "execution_count": 14,
      "metadata": {
        "execution": {
          "iopub.execute_input": "2025-05-08T03:43:21.361101Z",
          "iopub.status.busy": "2025-05-08T03:43:21.360924Z",
          "iopub.status.idle": "2025-05-08T03:43:21.378996Z",
          "shell.execute_reply": "2025-05-08T03:43:21.378268Z",
          "shell.execute_reply.started": "2025-05-08T03:43:21.361079Z"
        },
        "trusted": true,
        "id": "SxO9tgYWGq1I"
      },
      "outputs": [],
      "source": [
        "import matplotlib.pyplot as plt\n",
        "\n",
        "def show_prediction(model, val_loader):\n",
        "    model.eval()\n",
        "    with torch.no_grad():\n",
        "        x_val, y_val = next(iter(val_loader))\n",
        "        x_val, y_val = x_val.to(device), y_val.to(device)\n",
        "        y_val = (y_val == 1).float()\n",
        "\n",
        "        pred = model(x_val)\n",
        "        pred_bin = (pred > 0.5).float()\n",
        "\n",
        "        # Show first sample\n",
        "        fig, axs = plt.subplots(1, 3, figsize=(12, 4))\n",
        "        axs[0].imshow(x_val[0, 11].cpu(), cmap='gray')\n",
        "        axs[0].set_title(\"Previous Fire Mask\")\n",
        "        axs[1].imshow(y_val[0, 0].cpu(), cmap='gray')\n",
        "        axs[1].set_title(\"Ground Truth\")\n",
        "        axs[2].imshow(pred_bin[0, 0].cpu(), cmap='gray')\n",
        "        axs[2].set_title(\"Prediction\")\n",
        "        for ax in axs:\n",
        "            ax.axis('off')\n",
        "        plt.show()\n"
      ]
    },
    {
      "cell_type": "code",
      "execution_count": 15,
      "metadata": {
        "execution": {
          "iopub.execute_input": "2025-05-08T03:43:21.380040Z",
          "iopub.status.busy": "2025-05-08T03:43:21.379776Z",
          "iopub.status.idle": "2025-05-08T03:43:21.393922Z",
          "shell.execute_reply": "2025-05-08T03:43:21.393172Z",
          "shell.execute_reply.started": "2025-05-08T03:43:21.380014Z"
        },
        "trusted": true,
        "id": "5fvcnfGxGq1I"
      },
      "outputs": [],
      "source": [
        "def compute_iou(pred, target, threshold=0.5, eps=1e-6):\n",
        "    pred_bin = (pred > threshold).float()\n",
        "    target_bin = (target > 0.5).float()\n",
        "\n",
        "    intersection = (pred_bin * target_bin).sum(dim=(1, 2, 3))\n",
        "    union = (pred_bin + target_bin - pred_bin * target_bin).sum(dim=(1, 2, 3))\n",
        "    iou = (intersection + eps) / (union + eps)\n",
        "    return iou.mean().item()\n",
        "\n",
        "def compute_accuracy(pred, target, threshold=0.5):\n",
        "    pred_bin = (pred > threshold).float()\n",
        "    correct = (pred_bin == target).float()\n",
        "    return correct.mean().item()\n"
      ]
    },
    {
      "cell_type": "code",
      "execution_count": 16,
      "metadata": {
        "execution": {
          "iopub.execute_input": "2025-05-08T03:43:21.394843Z",
          "iopub.status.busy": "2025-05-08T03:43:21.394662Z",
          "iopub.status.idle": "2025-05-08T03:48:19.091634Z",
          "shell.execute_reply": "2025-05-08T03:48:19.090969Z",
          "shell.execute_reply.started": "2025-05-08T03:43:21.394830Z"
        },
        "trusted": true,
        "id": "9FuZKpIcGq1I"
      },
      "outputs": [],
      "source": [
        "def train_fcn_model(params):\n",
        "    # device = torch.device(\"cuda\" if torch.cuda.is_available() else \"cpu\")\n",
        "\n",
        "    # model = UNet().to(device)\n",
        "    optimizer = torch.optim.Adam(model.parameters(), lr=params[\"lr\"])\n",
        "\n",
        "    # Adjust pos_weight based on dataset statistics or params\n",
        "    weight_value = params.get(\"pos_weight\", 0.85 / 0.15)\n",
        "    pos_weight = torch.tensor([weight_value], device=device)\n",
        "    criterion = nn.BCEWithLogitsLoss(pos_weight=pos_weight)\n",
        "\n",
        "    num_epochs = params.get(\"num_epochs\", 10)\n",
        "    batch_size = params.get(\"batch_size\", 32)\n",
        "\n",
        "    # Update train_loader and val_loader batch size if necessary\n",
        "    train_loader = torch.utils.data.DataLoader(torch_dataset, batch_size=batch_size, shuffle=True)\n",
        "    val_loader = torch.utils.data.DataLoader(torch_dataset_val, batch_size=batch_size, shuffle=False)\n",
        "\n",
        "    for epoch in range(num_epochs):\n",
        "        model.train()\n",
        "        train_loss = 0.0\n",
        "        for x, y in train_loader:\n",
        "            x, y = x.to(device), y.to(device)\n",
        "\n",
        "            pred = model(x)\n",
        "            loss = criterion(pred, y)\n",
        "\n",
        "            optimizer.zero_grad()\n",
        "            loss.backward()\n",
        "            optimizer.step()\n",
        "\n",
        "            train_loss += loss.item() * x.size(0)\n",
        "\n",
        "        train_loss /= len(train_loader.dataset)\n",
        "\n",
        "        # === Validation ===\n",
        "        model.eval()\n",
        "        val_loss = 0.0\n",
        "        total_iou = 0.0\n",
        "        total_acc = 0.0\n",
        "        n_samples = 0\n",
        "\n",
        "        with torch.no_grad():\n",
        "            for x_val, y_val in val_loader:\n",
        "                x_val, y_val = x_val.to(device), y_val.to(device)\n",
        "                y_val = (y_val == 1).float()\n",
        "\n",
        "                pred_val = torch.sigmoid(model(x_val))\n",
        "                loss = criterion(pred_val, y_val)\n",
        "                val_loss += loss.item() * x_val.size(0)\n",
        "\n",
        "                # Metrics\n",
        "                batch_iou = compute_iou(pred_val, y_val)\n",
        "                batch_acc = compute_accuracy(pred_val, y_val)\n",
        "\n",
        "                total_iou += batch_iou * x_val.size(0)\n",
        "                total_acc += batch_acc * x_val.size(0)\n",
        "                n_samples += x_val.size(0)\n",
        "\n",
        "        val_loss /= len(val_loader.dataset)\n",
        "        mean_iou = total_iou / n_samples\n",
        "        mean_acc = total_acc / n_samples\n",
        "\n",
        "        print(f\"Epoch {epoch+1:2d} | Train Loss: {train_loss:.4f} | \"\n",
        "              f\"Val Loss: {val_loss:.4f} | IoU: {mean_iou:.4f} | Acc: {mean_acc:.4f}\")\n",
        "\n",
        "    return val_loss  # Return validation loss for hyperparameter tuning\n"
      ]
    },
    {
      "cell_type": "code",
      "execution_count": null,
      "metadata": {
        "execution": {
          "iopub.execute_input": "2025-05-08T03:48:39.739987Z",
          "iopub.status.busy": "2025-05-08T03:48:39.739283Z",
          "iopub.status.idle": "2025-05-08T03:48:39.924659Z",
          "shell.execute_reply": "2025-05-08T03:48:39.923909Z",
          "shell.execute_reply.started": "2025-05-08T03:48:39.739966Z"
        },
        "trusted": true,
        "id": "6AalOtO1Gq1J"
      },
      "outputs": [],
      "source": [
        "params = {\n",
        "    \"lr\": 10 ** random.uniform(-5, -3)\n",
        "}\n",
        "device = torch.device(\"cuda\" if torch.cuda.is_available() else \"cpu\")\n",
        "model = UNet().to(device)\n",
        "train_fcn_model(params)\n",
        "show_prediction(model, val_loader)"
      ]
    },
    {
      "cell_type": "markdown",
      "metadata": {
        "id": "tPsi-x9PGq1J"
      },
      "source": [
        "# vision transformer (IGNORE)"
      ]
    },
    {
      "cell_type": "code",
      "execution_count": null,
      "metadata": {
        "execution": {
          "iopub.execute_input": "2025-05-08T04:16:47.645740Z",
          "iopub.status.busy": "2025-05-08T04:16:47.645181Z",
          "iopub.status.idle": "2025-05-08T04:16:48.909794Z",
          "shell.execute_reply": "2025-05-08T04:16:48.908763Z",
          "shell.execute_reply.started": "2025-05-08T04:16:47.645718Z"
        },
        "trusted": true,
        "id": "Sm0HIw5BGq1K"
      },
      "outputs": [],
      "source": [
        "# import torch\n",
        "# import torch.nn as nn\n",
        "# from torchvision.models.vision_transformer import VisionTransformer\n",
        "\n",
        "# class FireMaskViT(nn.Module):\n",
        "#     def __init__(self, input_channels, image_size=64, patch_size=8, num_classes=1, hidden_dim=768, num_layers=12, num_heads=12):\n",
        "#         super().__init__()\n",
        "\n",
        "#         assert image_size % patch_size == 0, \"image_size must be divisible by patch_size\"\n",
        "\n",
        "#         num_patches = (image_size // patch_size) ** 2\n",
        "\n",
        "#         # VisionTransformer expects 3 input channels → we re-define input projection\n",
        "#         self.vit = VisionTransformer(\n",
        "#             image_size=image_size,\n",
        "#             patch_size=patch_size,\n",
        "#             num_layers=num_layers,\n",
        "#             num_heads=num_heads,\n",
        "#             hidden_dim=hidden_dim,\n",
        "#             mlp_dim=hidden_dim * 4,\n",
        "#             num_classes=0,  # no classification head\n",
        "#         )\n",
        "\n",
        "#         # Replace input projection layer to accept input_channels instead of 3\n",
        "#         self.vit.conv_proj = nn.Conv2d(input_channels, hidden_dim, kernel_size=patch_size, stride=patch_size)\n",
        "\n",
        "#         # self.vit.encoder.pos_embedding = nn.Parameter(torch.randn(1, num_patches, hidden_dim))\n",
        "#         self.vit.encoder.cls_token = None\n",
        "#         self.vit.encoder.pos_embedding = nn.Parameter(torch.randn(1, num_patches + 1, hidden_dim))\n",
        "\n",
        "\n",
        "\n",
        "#         # Output: project transformer embedding back to patch predictions\n",
        "#         # num_patches = (image_size // patch_size) ** 2\n",
        "#         self.output_head = nn.Linear(hidden_dim, patch_size * patch_size)\n",
        "\n",
        "#     def forward(self, x):\n",
        "#         # x: (batch_size, C, 64, 64)\n",
        "#         embeddings = self.vit(x)  # (batch_size, num_patches, hidden_dim)\n",
        "#         out = self.output_head(embeddings)  # (batch_size, num_patches, patch_pixels)\n",
        "#         # Reshape output back to (batch_size, 1, 64, 64)\n",
        "#         B, N, P = out.shape\n",
        "#         patch_size = int(P ** 0.5)\n",
        "#         H = W = int(N ** 0.5)\n",
        "#         out = out.view(B, H, W, patch_size, patch_size).permute(0,1,3,2,4).reshape(B, 1, H*patch_size, W*patch_size)\n",
        "#         return out\n",
        "\n",
        "# # Example usage\n",
        "# input_channels = 12  # prev fire mask + NDVI + temp + humidity + ...\n",
        "# model = FireMaskViT(input_channels=input_channels)\n",
        "\n",
        "# dummy_input = torch.randn(2, input_channels, 64, 64)\n",
        "# output = model(dummy_input)  # → output shape: (2, 1, 64, 64)\n",
        "# print(output.shape)\n"
      ]
    },
    {
      "cell_type": "code",
      "execution_count": null,
      "metadata": {
        "execution": {
          "iopub.execute_input": "2025-05-08T04:15:25.087266Z",
          "iopub.status.busy": "2025-05-08T04:15:25.086572Z",
          "iopub.status.idle": "2025-05-08T04:15:26.227469Z",
          "shell.execute_reply": "2025-05-08T04:15:26.226456Z",
          "shell.execute_reply.started": "2025-05-08T04:15:25.087241Z"
        },
        "trusted": true,
        "id": "oL-74F8eGq1K"
      },
      "outputs": [],
      "source": [
        "# import torch\n",
        "# import torch.nn as nn\n",
        "# from torchvision.models.vision_transformer import VisionTransformer\n",
        "\n",
        "# class FireMaskViT(nn.Module):\n",
        "#     def __init__(self, input_channels=12, image_size=64, patch_size=8, hidden_dim=768, num_classes=1):\n",
        "#         super().__init__()\n",
        "\n",
        "#         assert image_size % patch_size == 0, \"image_size must be divisible by patch_size\"\n",
        "#         num_patches = (image_size // patch_size) ** 2\n",
        "\n",
        "#         # 1. Load pretrained ViT or define from scratch\n",
        "#         self.vit = VisionTransformer(\n",
        "#             image_size=image_size,\n",
        "#             patch_size=patch_size,\n",
        "#             num_layers=12,\n",
        "#             num_heads=12,\n",
        "#             hidden_dim=hidden_dim,\n",
        "#             mlp_dim=hidden_dim * 4,\n",
        "#             num_classes=0,  # No classifier head\n",
        "#         )\n",
        "\n",
        "#         # 2. Replace input stem to accept 12 channels\n",
        "#         self.vit.conv_proj = nn.Conv2d(input_channels, hidden_dim, kernel_size=patch_size, stride=patch_size)\n",
        "\n",
        "#         # 3. Replace positional embedding with correct size\n",
        "#         self.vit.encoder.pos_embedding = nn.Parameter(torch.zeros(1, num_patches + 1, hidden_dim))\n",
        "\n",
        "#         # 4. Decoder head to produce patch_size x patch_size pixels per patch\n",
        "#         self.output_head = nn.Linear(hidden_dim, patch_size * patch_size)\n",
        "\n",
        "#         self.patch_size = patch_size\n",
        "#         self.image_size = image_size\n",
        "\n",
        "#     def forward(self, x):\n",
        "#         B = x.size(0)\n",
        "\n",
        "#         # x: (B, 12, 64, 64)\n",
        "#         x = self.vit(x)  # (B, num_patches, hidden_dim)\n",
        "#         x = self.output_head(x)  # (B, num_patches, patch_area)\n",
        "\n",
        "#         P = self.patch_size\n",
        "#         N = self.image_size // P\n",
        "#         out = x.view(B, N, N, P, P).permute(0, 1, 3, 2, 4).reshape(B, 1, self.image_size, self.image_size)\n",
        "#         return out\n",
        "\n",
        "\n",
        "# model = FireMaskViT(input_channels=12, image_size=64, patch_size=8)\n",
        "# dummy_input = torch.randn(2, 12, 64, 64)\n",
        "# out = model(dummy_input)\n",
        "# print(out.shape)  # Expected: torch.Size([2, 1, 64, 64])\n"
      ]
    },
    {
      "cell_type": "markdown",
      "metadata": {
        "id": "5gm5n5ViGq1L"
      },
      "source": [
        "# timm vt"
      ]
    },
    {
      "cell_type": "code",
      "execution_count": 17,
      "metadata": {
        "execution": {
          "iopub.execute_input": "2025-05-08T04:39:51.563178Z",
          "iopub.status.busy": "2025-05-08T04:39:51.562916Z",
          "iopub.status.idle": "2025-05-08T04:39:51.570047Z",
          "shell.execute_reply": "2025-05-08T04:39:51.569321Z",
          "shell.execute_reply.started": "2025-05-08T04:39:51.563159Z"
        },
        "trusted": true,
        "id": "t2VZfCX_Gq1L"
      },
      "outputs": [],
      "source": [
        "import torch\n",
        "import torch.nn as nn\n",
        "import timm\n",
        "\n",
        "class FireMaskViT(nn.Module):\n",
        "    def __init__(self, input_channels=12, image_size=64, patch_size=8, hidden_dim=768):\n",
        "        super().__init__()\n",
        "\n",
        "        assert image_size % patch_size == 0, \"Image size must be divisible by patch size.\"\n",
        "\n",
        "        self.image_size = image_size\n",
        "        self.patch_size = patch_size\n",
        "        self.hidden_dim = hidden_dim\n",
        "        self.num_patches = (image_size // patch_size) ** 2\n",
        "\n",
        "        self.vit = timm.create_model(\n",
        "            'vit_base_patch16_224',\n",
        "            pretrained=False,\n",
        "            img_size=image_size,\n",
        "            patch_size=patch_size,\n",
        "            in_chans=input_channels,\n",
        "            num_classes=0  # no classifier head\n",
        "        )\n",
        "\n",
        "        # print(type(self.vit))\n",
        "\n",
        "\n",
        "        self.output_head = nn.Linear(self.vit.embed_dim, patch_size * patch_size)\n",
        "\n",
        "    def forward(self, x):\n",
        "        B = x.shape[0]\n",
        "\n",
        "        x = self.vit.forward_features(x)\n",
        "        x = x[:, 1:, :]\n",
        "        # print(\"vit output:\", x.shape)\n",
        "\n",
        "        x = self.output_head(x)  # shape (B, num_patches, patch_area)\n",
        "\n",
        "        P = self.patch_size\n",
        "        N = self.image_size // P  # patches along each dimension\n",
        "\n",
        "        x = x.view(B, N, N, P, P).permute(0, 1, 3, 2, 4).reshape(B, 1, self.image_size, self.image_size)\n",
        "        return x\n"
      ]
    },
    {
      "cell_type": "code",
      "execution_count": 20,
      "metadata": {
        "execution": {
          "iopub.execute_input": "2025-05-08T04:38:15.842036Z",
          "iopub.status.busy": "2025-05-08T04:38:15.841758Z",
          "iopub.status.idle": "2025-05-08T04:38:19.231225Z",
          "shell.execute_reply": "2025-05-08T04:38:19.230502Z",
          "shell.execute_reply.started": "2025-05-08T04:38:15.842015Z"
        },
        "trusted": true,
        "id": "JSLIK1NxGq1L"
      },
      "outputs": [],
      "source": [
        "# model = FireMaskViT(input_channels=12, image_size=64, patch_size=8)\n",
        "# dummy_input = torch.randn(32, 12, 64, 64)\n",
        "# output = model(dummy_input)\n",
        "# print(output.shape)  # Should be: torch.Size([32, 1, 64, 64])\n"
      ]
    },
    {
      "cell_type": "code",
      "execution_count": 18,
      "metadata": {
        "execution": {
          "iopub.execute_input": "2025-05-08T04:51:36.379663Z",
          "iopub.status.busy": "2025-05-08T04:51:36.379105Z",
          "iopub.status.idle": "2025-05-08T04:51:37.626162Z",
          "shell.execute_reply": "2025-05-08T04:51:37.625581Z",
          "shell.execute_reply.started": "2025-05-08T04:51:36.379642Z"
        },
        "trusted": true,
        "id": "s9GZXHNZGq1M"
      },
      "outputs": [],
      "source": [
        "device = torch.device('cuda' if torch.cuda.is_available() else 'cpu')\n",
        "model = FireMaskViT(input_channels=12).to(device)\n",
        "optimizer = torch.optim.Adam(model.parameters(), lr=1e-4)\n",
        "\n",
        "pos_weight = torch.tensor([10.0]).to(device)\n",
        "criterion = nn.BCEWithLogitsLoss(pos_weight=pos_weight)\n",
        "\n",
        "# criterion = nn.BCEWithLogitsLoss()\n"
      ]
    },
    {
      "cell_type": "code",
      "execution_count": null,
      "metadata": {
        "execution": {
          "iopub.execute_input": "2025-05-08T04:51:39.503161Z",
          "iopub.status.busy": "2025-05-08T04:51:39.502542Z",
          "iopub.status.idle": "2025-05-08T04:59:41.420417Z",
          "shell.execute_reply": "2025-05-08T04:59:41.419578Z",
          "shell.execute_reply.started": "2025-05-08T04:51:39.503141Z"
        },
        "trusted": true,
        "id": "-m6rvCJfGq1M"
      },
      "outputs": [],
      "source": [
        "for epoch in range(1, 5):\n",
        "    model.train()\n",
        "    train_loss = 0\n",
        "    for X_batch, y_batch in train_loader:\n",
        "        X_batch, y_batch = X_batch.to(device), y_batch.to(device)\n",
        "        optimizer.zero_grad()\n",
        "        output = model(X_batch)\n",
        "        loss = criterion(output, y_batch)\n",
        "        loss.backward()\n",
        "        optimizer.step()\n",
        "        train_loss += loss.item()\n",
        "\n",
        "    val_loss = 0\n",
        "    model.eval()\n",
        "    with torch.no_grad():\n",
        "        for X_batch, y_batch in val_loader:\n",
        "            X_batch, y_batch = X_batch.to(device), y_batch.to(device)\n",
        "            output = model(X_batch)\n",
        "            loss = criterion(output, y_batch)\n",
        "            val_loss += loss.item()\n",
        "\n",
        "    print(f\"Epoch {epoch:2d} | Train Loss: {train_loss/len(train_loader):.4f} | Val Loss: {val_loss/len(val_loader):.4f}\")\n"
      ]
    },
    {
      "cell_type": "code",
      "execution_count": 19,
      "metadata": {
        "execution": {
          "iopub.execute_input": "2025-05-08T05:00:21.536360Z",
          "iopub.status.busy": "2025-05-08T05:00:21.535688Z",
          "iopub.status.idle": "2025-05-08T05:00:21.541640Z",
          "shell.execute_reply": "2025-05-08T05:00:21.540837Z",
          "shell.execute_reply.started": "2025-05-08T05:00:21.536340Z"
        },
        "trusted": true,
        "id": "emKR6-e4Gq1M"
      },
      "outputs": [],
      "source": [
        "def evaluate(model, dataloader, threshold=0.5):\n",
        "    model.eval()\n",
        "    correct, total = 0, 0\n",
        "    intersection, union = 0, 0\n",
        "    with torch.no_grad():\n",
        "        for X, y in dataloader:\n",
        "            X, y = X.to(device), y.to(device)\n",
        "            pred = torch.sigmoid(model(X)) > threshold\n",
        "            correct += (pred == y).sum().item()\n",
        "            total += torch.numel(y)\n",
        "            intersection += (pred & (y > 0.5)).sum().item()\n",
        "            union += ((pred | (y > 0.5))).sum().item()\n",
        "    acc = correct / total\n",
        "    iou = intersection / union if union else 0\n",
        "    print(f\"Pixel Accuracy: {acc:.4f}, IoU: {iou:.4f}\")\n"
      ]
    },
    {
      "cell_type": "code",
      "execution_count": null,
      "metadata": {
        "execution": {
          "iopub.execute_input": "2025-05-08T04:59:52.118467Z",
          "iopub.status.busy": "2025-05-08T04:59:52.117806Z",
          "iopub.status.idle": "2025-05-08T04:59:53.030251Z",
          "shell.execute_reply": "2025-05-08T04:59:53.029593Z",
          "shell.execute_reply.started": "2025-05-08T04:59:52.118429Z"
        },
        "trusted": true,
        "id": "a-nAjPwDGq1M"
      },
      "outputs": [],
      "source": [
        "show_prediction(model, val_loader)"
      ]
    },
    {
      "cell_type": "code",
      "execution_count": null,
      "metadata": {
        "execution": {
          "iopub.execute_input": "2025-05-08T05:00:34.209196Z",
          "iopub.status.busy": "2025-05-08T05:00:34.208675Z",
          "iopub.status.idle": "2025-05-08T05:00:39.030196Z",
          "shell.execute_reply": "2025-05-08T05:00:39.029428Z",
          "shell.execute_reply.started": "2025-05-08T05:00:34.209172Z"
        },
        "trusted": true,
        "id": "pme1XWekGq1N"
      },
      "outputs": [],
      "source": [
        "evaluate(model, val_loader)"
      ]
    },
    {
      "cell_type": "markdown",
      "metadata": {
        "id": "MlaGbfwEGq1N"
      },
      "source": [
        "# Training loop"
      ]
    },
    {
      "cell_type": "code",
      "execution_count": 20,
      "metadata": {
        "id": "pchrLaasGq1N"
      },
      "outputs": [],
      "source": [
        "def train_model(model, train_dataset, val_dataset, params, device):\n",
        "    \"\"\"\n",
        "    A reusable training loop that dynamically creates components based on hyperparameter tuning parameters.\n",
        "\n",
        "    Args:\n",
        "        model (torch.nn.Module): The model to train (e.g., U-Net or Vision Transformer).\n",
        "        train_dataset (Dataset): The training dataset.\n",
        "        val_dataset (Dataset): The validation dataset.\n",
        "        params (dict): Dictionary containing hyperparameters (e.g., learning rate, batch size, optimizer type).\n",
        "        device (torch.device): Device to train on (e.g., 'cuda' or 'cpu').\n",
        "        num_epochs (int): Number of epochs to train for.\n",
        "\n",
        "    Returns:\n",
        "        dict: A dictionary containing training and validation losses, IoU, and accuracy for each epoch.\n",
        "    \"\"\"\n",
        "    # === Create DataLoaders ===\n",
        "    train_loader = torch.utils.data.DataLoader(\n",
        "        train_dataset, batch_size=params[\"batch_size\"], shuffle=True\n",
        "    )\n",
        "    val_loader = torch.utils.data.DataLoader(\n",
        "        val_dataset, batch_size=params[\"batch_size\"], shuffle=False\n",
        "    )\n",
        "\n",
        "    # === Define Optimizer ===\n",
        "    if params[\"optimizer\"] == \"adam\":\n",
        "        optimizer = torch.optim.Adam(model.parameters(), lr=params[\"lr\"], weight_decay=params[\"weight_decay\"])\n",
        "    elif params[\"optimizer\"] == \"adamw\":\n",
        "        optimizer = torch.optim.AdamW(model.parameters(), lr=params[\"lr\"], weight_decay=params[\"weight_decay\"])\n",
        "    elif params[\"optimizer\"] == \"sgd\":\n",
        "        optimizer = torch.optim.SGD(model.parameters(), lr=params[\"lr\"], weight_decay=params[\"weight_decay\"], momentum=0.9)\n",
        "    else:\n",
        "        raise ValueError(f\"Unsupported optimizer: {params['optimizer']}\")\n",
        "\n",
        "    num_epochs = params.get(\"num_epochs\", 10)\n",
        "\n",
        "    # === Define Loss Function ===\n",
        "    pos_weight = params.get(\"pos_weight\", 0.85 / 0.15) # Default to 1.0 if not provided\n",
        "    criterion = nn.BCEWithLogitsLoss(pos_weight=torch.tensor([pos_weight], device=device))\n",
        "\n",
        "    # === Training Loop ===\n",
        "    history = {\n",
        "        \"train_loss\": [],\n",
        "        \"val_loss\": [],\n",
        "        \"val_iou\": [],\n",
        "        \"val_acc\": []\n",
        "    }\n",
        "\n",
        "    for epoch in range(num_epochs):\n",
        "        # === Training ===\n",
        "        model.train()\n",
        "        train_loss = 0.0\n",
        "\n",
        "        for x_batch, y_batch in train_loader:\n",
        "            x_batch, y_batch = x_batch.to(device), y_batch.to(device)\n",
        "\n",
        "            # Forward pass\n",
        "            outputs = model(x_batch)\n",
        "            loss = criterion(outputs, y_batch)\n",
        "\n",
        "            # Backward pass and optimization\n",
        "            optimizer.zero_grad()\n",
        "            loss.backward()\n",
        "            optimizer.step()\n",
        "\n",
        "            train_loss += loss.item() * x_batch.size(0)\n",
        "\n",
        "        train_loss /= len(train_loader.dataset)\n",
        "        history[\"train_loss\"].append(train_loss)\n",
        "\n",
        "        # === Validation ===\n",
        "        model.eval()\n",
        "        val_loss = 0.0\n",
        "        total_iou = 0.0\n",
        "        total_acc = 0.0\n",
        "        n_samples = 0\n",
        "\n",
        "        with torch.no_grad():\n",
        "            for x_val, y_val in val_loader:\n",
        "                x_val, y_val = x_val.to(device), y_val.to(device)\n",
        "\n",
        "                # Forward pass\n",
        "                outputs = model(x_val)\n",
        "                loss = criterion(outputs, y_val)\n",
        "                val_loss += loss.item() * x_val.size(0)\n",
        "\n",
        "                # Metrics\n",
        "                batch_iou = compute_iou(torch.sigmoid(outputs), y_val)\n",
        "                batch_acc = compute_accuracy(torch.sigmoid(outputs), y_val)\n",
        "\n",
        "                total_iou += batch_iou * x_val.size(0)\n",
        "                total_acc += batch_acc * x_val.size(0)\n",
        "                n_samples += x_val.size(0)\n",
        "\n",
        "        val_loss /= len(val_loader.dataset)\n",
        "        mean_iou = total_iou / n_samples\n",
        "        mean_acc = total_acc / n_samples\n",
        "\n",
        "        history[\"val_loss\"].append(val_loss)\n",
        "        history[\"val_iou\"].append(mean_iou)\n",
        "        history[\"val_acc\"].append(mean_acc)\n",
        "\n",
        "        # Print epoch summary\n",
        "        print(f\"Epoch {epoch + 1}/{num_epochs} | \"\n",
        "              f\"Train Loss: {train_loss:.4f} | \"\n",
        "              f\"Val Loss: {val_loss:.4f} | \"\n",
        "              f\"IoU: {mean_iou:.4f} | Acc: {mean_acc:.4f}\")\n",
        "\n",
        "    return history"
      ]
    },
    {
      "cell_type": "markdown",
      "metadata": {
        "id": "nZ4gxdLLGq1N"
      },
      "source": [
        "# Hyperparameter tuning"
      ]
    },
    {
      "cell_type": "code",
      "execution_count": 40,
      "metadata": {
        "id": "cnTYC53FGq1O"
      },
      "outputs": [],
      "source": [
        "import random\n",
        "from itertools import count\n",
        "\n",
        "def random_search(model_type, device, n_trials=3):\n",
        "    best_val_loss = float('inf')\n",
        "    best_params = None\n",
        "\n",
        "    for trial in range(n_trials):\n",
        "        print(\"trial number \", trial+1)\n",
        "        if model_type == \"unet\":\n",
        "            params = {\n",
        "                \"lr\": 10 ** random.uniform(-5, -3),\n",
        "                \"batch_size\": random.choice([16, 32, 64]),\n",
        "                \"optimizer\": random.choice([\"adam\", \"adamw\", \"sgd\"]),\n",
        "                \"weight_decay\": random.choice([0, 1e-4, 1e-3]),\n",
        "                \"num_epochs\": 3,\n",
        "            }\n",
        "            # val_loss = train_fcn_model(params)\n",
        "            model = UNet().to(device)\n",
        "            # model.summary()\n",
        "        elif model_type == \"vit\":\n",
        "            patch_size = random.choice([8, 16, 32])\n",
        "            params = {\n",
        "                \"lr\": 10 ** random.uniform(-5, -4),\n",
        "                \"batch_size\": random.choice([16, 32, 64]),\n",
        "                \"patch_size\": patch_size,\n",
        "                \"n_heads\": random.choice([4, 8, 12]),\n",
        "                \"optimizer\": random.choice([\"adam\", \"adamw\", \"sgd\"]),\n",
        "                \"weight_decay\": random.uniform(1e-6, 1e-3),\n",
        "                \"num_epochs\": 3,\n",
        "            }\n",
        "            model = FireMaskViT(input_channels=12, image_size=64, patch_size=patch_size).to(device)\n",
        "        history = train_model(model, torch_dataset, torch_dataset_val, params, device)\n",
        "\n",
        "\n",
        "        val_loss = history[\"val_loss\"][-1]\n",
        "        if val_loss < best_val_loss:\n",
        "            best_val_loss = val_loss\n",
        "            best_params = params\n",
        "            # best_model = model\n",
        "\n",
        "    return best_params#, best_model"
      ]
    },
    {
      "cell_type": "code",
      "source": [
        "device = torch.device(\"cuda\" if torch.cuda.is_available() else \"cpu\")\n",
        "print(device)\n",
        "best_params_unet = random_search(model_type = \"unet\", device = device)\n",
        "print(best_params_unet)"
      ],
      "metadata": {
        "colab": {
          "base_uri": "https://localhost:8080/"
        },
        "id": "B1nE853BMBlZ",
        "outputId": "915900bb-6cbd-4e87-808c-e5541d4ddc6f"
      },
      "execution_count": 36,
      "outputs": [
        {
          "output_type": "stream",
          "name": "stdout",
          "text": [
            "cuda\n",
            "trial number  1\n",
            "Epoch 1/3 | Train Loss: 0.3081 | Val Loss: 0.2513 | IoU: 0.2056 | Acc: 0.9674\n",
            "Epoch 2/3 | Train Loss: 0.1767 | Val Loss: 0.1973 | IoU: 0.2269 | Acc: 0.9732\n",
            "Epoch 3/3 | Train Loss: 0.1354 | Val Loss: 0.1904 | IoU: 0.2217 | Acc: 0.9749\n",
            "trial number  2\n",
            "Epoch 1/3 | Train Loss: 0.5400 | Val Loss: 0.5673 | IoU: 0.1394 | Acc: 0.9646\n",
            "Epoch 2/3 | Train Loss: 0.4011 | Val Loss: 0.4078 | IoU: 0.1587 | Acc: 0.9668\n",
            "Epoch 3/3 | Train Loss: 0.3464 | Val Loss: 0.3636 | IoU: 0.1892 | Acc: 0.9674\n",
            "trial number  3\n",
            "Epoch 1/3 | Train Loss: 0.2342 | Val Loss: 0.2268 | IoU: 0.1520 | Acc: 0.9769\n",
            "Epoch 2/3 | Train Loss: 0.1469 | Val Loss: 0.2111 | IoU: 0.1534 | Acc: 0.9730\n",
            "Epoch 3/3 | Train Loss: 0.1359 | Val Loss: 0.2064 | IoU: 0.1574 | Acc: 0.9721\n",
            "{'lr': 6.868493510473524e-05, 'batch_size': 16, 'optimizer': 'adam', 'weight_decay': 0.0001, 'num_epochs': 3}\n"
          ]
        }
      ]
    },
    {
      "cell_type": "code",
      "source": [
        "device = torch.device(\"cuda\" if torch.cuda.is_available() else \"cpu\")\n",
        "print(device)\n",
        "best_params_vt = random_search(model_type = \"vit\", device = device)\n",
        "print(best_params_vt)"
      ],
      "metadata": {
        "colab": {
          "base_uri": "https://localhost:8080/"
        },
        "id": "JjOPke8ZUVdj",
        "outputId": "33c04755-7671-47bb-bcf4-cda77897d1c2"
      },
      "execution_count": 41,
      "outputs": [
        {
          "output_type": "stream",
          "name": "stdout",
          "text": [
            "cuda\n",
            "trial number  1\n",
            "Epoch 1/3 | Train Loss: 0.2675 | Val Loss: 0.2569 | IoU: 0.0623 | Acc: 0.9815\n",
            "Epoch 2/3 | Train Loss: 0.2007 | Val Loss: 0.2470 | IoU: 0.0835 | Acc: 0.9723\n",
            "Epoch 3/3 | Train Loss: 0.1836 | Val Loss: 0.2327 | IoU: 0.1054 | Acc: 0.9739\n",
            "trial number  2\n",
            "Epoch 1/3 | Train Loss: 0.6622 | Val Loss: 0.5883 | IoU: 0.0097 | Acc: 0.8318\n",
            "Epoch 2/3 | Train Loss: 0.5007 | Val Loss: 0.4831 | IoU: 0.0063 | Acc: 0.9458\n",
            "Epoch 3/3 | Train Loss: 0.4135 | Val Loss: 0.4209 | IoU: 0.0326 | Acc: 0.9711\n",
            "trial number  3\n",
            "Epoch 1/3 | Train Loss: 0.7305 | Val Loss: 0.7183 | IoU: 0.0143 | Acc: 0.6093\n",
            "Epoch 2/3 | Train Loss: 0.6772 | Val Loss: 0.6771 | IoU: 0.0144 | Acc: 0.6786\n",
            "Epoch 3/3 | Train Loss: 0.6386 | Val Loss: 0.6430 | IoU: 0.0144 | Acc: 0.7365\n",
            "{'lr': 7.827837433030308e-05, 'batch_size': 64, 'patch_size': 32, 'n_heads': 4, 'optimizer': 'adam', 'weight_decay': 0.0005508653454252114, 'num_epochs': 3}\n"
          ]
        }
      ]
    },
    {
      "cell_type": "code",
      "source": [
        "# Next steps:\n",
        "# 1. Run hyperparametter tuning on 8 epochs for 8 trials\n",
        "# 2. Train both models for 20 epochs with early stopping\n",
        "# 3. Visualize attemtion maps\n",
        "# 4. Visualize filters\n",
        "# 5. Identify misclassified samples\n",
        "# 6. Test performance with merging the \"uncertainty\" class into fire/no-fire\n"
      ],
      "metadata": {
        "id": "e2ylGW19UchS"
      },
      "execution_count": null,
      "outputs": []
    }
  ],
  "metadata": {
    "kaggle": {
      "accelerator": "nvidiaTeslaT4",
      "dataSources": [
        {
          "datasetId": 1726926,
          "sourceId": 2824184,
          "sourceType": "datasetVersion"
        }
      ],
      "dockerImageVersionId": 31011,
      "isGpuEnabled": true,
      "isInternetEnabled": true,
      "language": "python",
      "sourceType": "notebook"
    },
    "kernelspec": {
      "display_name": "Python 3",
      "name": "python3"
    },
    "language_info": {
      "codemirror_mode": {
        "name": "ipython",
        "version": 3
      },
      "file_extension": ".py",
      "mimetype": "text/x-python",
      "name": "python",
      "nbconvert_exporter": "python",
      "pygments_lexer": "ipython3",
      "version": "3.11.11"
    },
    "colab": {
      "provenance": [],
      "gpuType": "T4"
    },
    "accelerator": "GPU"
  },
  "nbformat": 4,
  "nbformat_minor": 0
}